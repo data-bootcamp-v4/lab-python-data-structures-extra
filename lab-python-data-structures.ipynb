{
 "cells": [
  {
   "cell_type": "markdown",
   "metadata": {},
   "source": [
    "# Lab | Data Structures "
   ]
  },
  {
   "cell_type": "markdown",
   "metadata": {},
   "source": [
    "## Exercise 1: Working with Lists"
   ]
  },
  {
   "cell_type": "markdown",
   "metadata": {},
   "source": [
    "Imagine you are building a program for a teacher who wants to track the progress of their students throughout the semester. The teacher wants to input the grades of each student one by one, and get a summary of their performance. There are in total 5 students. You are tasked with building the program that will allow the teacher to do this easily.\n",
    "\n",
    "The program will prompt the teacher to enter the grades of each student. Once the teacher has entered all the grades, the program will calculate the total sum of the grades and display it on the screen. Then, the program will create a new list by selecting only the grades of the first, third, and fifth students entered by the teacher, and sort them in ascending order.\n",
    "\n",
    "Finally, the program will print out the new list, along with its length and the number of occurrences of the score 5 in the list. This will give the teacher a good overview of the performance of the selected students, and help them identify any potential issues early on."
   ]
  },
  {
   "cell_type": "markdown",
   "metadata": {},
   "source": [
    "*Hint:*\n",
    "- You can use the input() function to ask the user to enter their information.\n",
    "- Look for list methods to perform the tasks. \n",
    "- Remember, it is possible to get a part of the sequence using:\n",
    "\n",
    "    ```python\n",
    "    sequence[x:y:z]\n",
    "    ```\n",
    "    where x, y, z are integers.\n",
    "\n",
    "    The above returns a new sequence with the following characteristics:\n",
    "\n",
    "    - A sequence with the same type as the original (a slice of a list is a list, a slice of a tuple is a tuple, and a slice of a string is a string).\n",
    "    - A sequence with elements from `sequence [x]` to `sequence [y-1]` (does not include a sequence [y]). By skipping `z` elements each time, it can be omitted if ` z = 1`.\n"
   ]
  },
  {
   "cell_type": "markdown",
   "metadata": {},
   "source": [
    "*Recommended External Resources:*\n",
    "- *[Python Lists](https://www.w3schools.com/python/python_lists.asp)*\n",
    "- *[Python List Methods](https://www.w3schools.com/python/python_ref_list.asp)*\n",
    "- *[Python Built-in Functions](https://docs.python.org/3/library/functions.html)*\n"
   ]
  },
  {
   "cell_type": "code",
   "execution_count": 4,
   "metadata": {},
   "outputs": [
    {
     "name": "stdout",
     "output_type": "stream",
     "text": [
      "The grades is:  [5.0, 10.0, 5.0, 5.0, 6.0]\n",
      "The sum of the grades is:  31.0\n",
      "The new list in ascending order is:  [5.0, 5.0, 6.0]\n",
      "Selected grades: [5.0, 5.0, 6.0]\n",
      "Number of grades in the list: 3\n",
      "Occurrences of score 5: 2\n"
     ]
    }
   ],
   "source": [
    "grades = []\n",
    "\n",
    "for i in range(5):\n",
    "    grade = float(input(f\"Enter the grade for student {i+1}: \"))\n",
    "    grades.append(grade)\n",
    "\n",
    "print(\"The grades is: \", grades)\n",
    "\n",
    "total_grades = sum(grades)\n",
    "print(\"The sum of the grades is: \", total_grades)\n",
    "\n",
    "new_list = [grades[0], grades[2], grades[4]]\n",
    "\n",
    "new_list.sort()\n",
    "\n",
    "print(\"The new list in ascending order is: \", new_list)\n",
    "print(\"Number of grades in the list:\", len(new_list))\n",
    "print(\"Occurrences of score 5:\", new_list.count(5))\n"
   ]
  },
  {
   "cell_type": "markdown",
   "metadata": {},
   "source": [
    "## Exercise 2: Tuples"
   ]
  },
  {
   "cell_type": "markdown",
   "metadata": {},
   "source": [
    "Imagine you're running a fruit stand and want to keep track of your inventory. Write a Python program that does the following:\n",
    "\n",
    "- Initializes a tuple with 5 different types of fruit.\n",
    "- Outputs the first and last elements of the tuple, so you can see the full range of fruits the store offers.\n",
    "- Replaces the second element of the tuple with a new fruit that the store has recently received, and prints the updated tuple so you can see the changes.\n",
    "- Concatenates a new tuple containing 2 additional fruits to the original tuple, so you can add them to the store inventory, and prints the resulting tuple to see the updated inventory.\n",
    "- Splits the resulting tuple into 2 tuples of 3 elements each (the first tuple contains the first 3 elements, and the second tuple contains the last 3 elements), so you can organize the inventory more effectively.\n",
    "- Combines the 2 tuples from the previous step with the original tuple into a new tuple, and prints the resulting tuple and its length, so you can see the final inventory after all the changes."
   ]
  },
  {
   "cell_type": "markdown",
   "metadata": {},
   "source": [
    "*Recommended External Resources: [Python Tuples Examples and Methods](https://www.w3schools.com/python/python_tuples.asp)*\n",
    "\n"
   ]
  },
  {
   "cell_type": "code",
   "execution_count": 18,
   "metadata": {},
   "outputs": [
    {
     "name": "stdout",
     "output_type": "stream",
     "text": [
      "First fruit is:  apple\n",
      "Last fruit is:  mango\n",
      "New list of fruits is:  ('apple', 'pear', 'orange', 'kiwi', 'mango')\n",
      "New inventory:  ('apple', 'pear', 'orange', 'kiwi', 'mango', 'strawberry', 'pineapple')\n",
      "Tuple 1: ('apple', 'pear', 'orange')\n",
      "Tuple 2: ('kiwi', 'mango', 'strawberry', 'pineapple')\n",
      "Final inventory: ('apple', 'pear', 'orange', 'kiwi', 'mango', 'strawberry', 'pineapple', 'apple', 'pear', 'orange', 'kiwi', 'mango', 'strawberry', 'pineapple')\n",
      "Length of final inventory: 14\n"
     ]
    }
   ],
   "source": [
    "# Your code here\n",
    "\n",
    "fruits = ('apple', 'banana', 'orange', 'kiwi', 'mango')\n",
    "\n",
    "\n",
    "print(\"First fruit is: \", fruits[0])\n",
    "print(\"Last fruit is: \", fruits[len(fruits)-1])\n",
    "\n",
    "\n",
    "fruits = fruits[:1] + (\"pear\",) + fruits[2:]\n",
    "print(\"New list of fruits is: \", fruits)\n",
    "\n",
    "\n",
    "new_fruits = ('strawberry', 'pineapple')\n",
    "fruits += new_fruits\n",
    "print(\"New inventory: \", fruits)\n",
    "\n",
    "\n",
    "tuple1 = fruits[:3]\n",
    "tuple2 = fruits[3:]\n",
    "print(\"Tuple 1:\", tuple1)\n",
    "print(\"Tuple 2:\", tuple2)\n",
    "\n",
    "\n",
    "combined_tuple = tuple1 + tuple2 + fruits\n",
    "print(\"Final inventory:\", combined_tuple)\n",
    "print(\"Length of final inventory:\", len(combined_tuple))\n",
    "\n"
   ]
  },
  {
   "cell_type": "markdown",
   "metadata": {},
   "source": [
    "## Exercise 3: Sets"
   ]
  },
  {
   "cell_type": "markdown",
   "metadata": {},
   "source": [
    "Imagine you are a data analyst working for a literature museum. Your manager has given you two poems to analyze, and she wants you to write a Python program to extract useful information from them.\n",
    "\n",
    "Your program should:\n",
    "\n",
    "- Create two sets, one for each poem, containing all unique words in both poems (ignoring case and punctuation).\n",
    "- Print the number of unique words in each set.\n",
    "- Identify and print the unique words present in the first poem but not in the second one.\n",
    "- Identify and print the unique words present in the second poem but not in the first one.\n",
    "- Identify and print the unique words present in both poems and print it in alphabetical order."
   ]
  },
  {
   "cell_type": "markdown",
   "metadata": {},
   "source": [
    "*Recommended External Resources:*\n",
    "- *[Python Sets](https://www.w3schools.com/python/python_sets.asp)* \n",
    "- *[Python Set Methods](https://www.w3schools.com/python/python_ref_set.asp)*\n",
    "- *[Python String Methods](https://www.w3schools.com/python/python_ref_string.asp)*\n"
   ]
  },
  {
   "cell_type": "code",
   "execution_count": 89,
   "metadata": {},
   "outputs": [
    {
     "name": "stdout",
     "output_type": "stream",
     "text": [
      "44\n",
      "46\n",
      "{'favor', 'Is', 'And', 'I’ve', 'ice', 'will', 'tasted', 'destruction', 'in', 'for', 'also', 'great', 'twice,', 'world', 'perish', 'hold', 'fire,', 'the', 'ice.', 'hate', 'fire.', 'desire', 'would', 'suffice.'}\n",
      "{'today,', 'test.', 'love,', 'made', 'see', 'we', 'side', 'fades', 'of.', 'still', 'though', 'life', 'and', 'is', 'a', 'seen', 'deem,', \"It's\", 'quest.', 'as', 'but', \"it's\", 'are', \"I've\", 'away,', 'dream,'}\n",
      "['But', 'From', 'I', 'Some', 'To', 'end', 'enough', 'had', 'if', 'it', 'know', 'of', 'say', 'that', 'think', 'those', 'to', 'what', 'who', 'with']\n"
     ]
    }
   ],
   "source": [
    "poem = \"\"\"Some say the world will end in fire,\n",
    "Some say in ice.\n",
    "From what I’ve tasted of desire\n",
    "I hold with those who favor fire.\n",
    "But if it had to perish twice,\n",
    "I think I know enough of hate\n",
    "To say that for destruction ice\n",
    "Is also great\n",
    "And would suffice.\"\"\"\n",
    "\n",
    "new_poem = \"\"\"Some say life is but a dream,\n",
    "Some say it's a test.\n",
    "From what I've seen and what I deem,\n",
    "I side with those who see it as a quest.\n",
    "\n",
    "But if it had to end today,\n",
    "I think I know enough of love,\n",
    "To say that though it fades away,\n",
    "It's still what we are made of.\"\"\"\n",
    "\n",
    "\n",
    "\n",
    "\n",
    "\n",
    "p1 = poem.split()\n",
    "p2 = new_poem.split()\n",
    "\n",
    "set1 = set(p1)\n",
    "set2 = set(p2)\n",
    "\n",
    "unic_set1 = set1 - set2\n",
    "unic_set2 = set2 - set1\n",
    "unic_both = sorted(set1 & set2)\n",
    "\n",
    "print(len(set1))\n",
    "print(len(set2))\n",
    "print(unic_set1)\n",
    "print(unic_set2)\n",
    "print(unic_both)\n"
   ]
  },
  {
   "cell_type": "code",
   "execution_count": null,
   "metadata": {},
   "outputs": [],
   "source": [
    "# Your code here"
   ]
  },
  {
   "cell_type": "markdown",
   "metadata": {},
   "source": [
    "## Exercise 4: Dictionaries"
   ]
  },
  {
   "cell_type": "markdown",
   "metadata": {},
   "source": [
    "Consider the following dictionary of students with their scores in different subjects. One of the students, Bob, has complained about his score in Philosophy and, after reviewing it, the teacher has decided to update his score to 100. Write a Python program that updates Bob's score in Philosophy to 100 in the dictionary."
   ]
  },
  {
   "cell_type": "markdown",
   "metadata": {},
   "source": [
    "*Recommended External Resources: [Python Dictionary Examples and Methods](https://www.w3schools.com/python/python_dictionaries.asp)*\n"
   ]
  },
  {
   "cell_type": "code",
   "execution_count": 27,
   "metadata": {},
   "outputs": [],
   "source": [
    "grades = {'Alice': {'Physics': 75, 'Math': 85, 'Chemistry': 60, 'Philosophy': 90}, 'Bob': {'Physics': 75, 'Math': 85, 'Chemistry': 60, 'Philosophy': 90}}\n",
    "\n"
   ]
  },
  {
   "cell_type": "code",
   "execution_count": 76,
   "metadata": {},
   "outputs": [
    {
     "name": "stdout",
     "output_type": "stream",
     "text": [
      "{'Alice': {'Physics': 75, 'Math': 85, 'Chemistry': 60, 'Philosophy': 90}, 'Bob': {'Physics': 75, 'Math': 85, 'Chemistry': 60, 'Philosophy': 100}}\n"
     ]
    }
   ],
   "source": [
    "# Your code here\n",
    "\n",
    "grades[\"Bob\"][\"Philosophy\"] = 100\n",
    "\n",
    "print(grades)\n",
    "\n"
   ]
  },
  {
   "cell_type": "markdown",
   "metadata": {},
   "source": [
    "## Bonus"
   ]
  },
  {
   "cell_type": "markdown",
   "metadata": {},
   "source": [
    "1. Below are the two lists. Write a Python program to convert them into a dictionary in a way that item from list1 is the key and item from list2 is the value."
   ]
  },
  {
   "cell_type": "markdown",
   "metadata": {},
   "source": [
    "*Hint: Use the zip() function. This function takes two or more iterables (like list, dict, string), aggregates them in a tuple, and returns it. Afterwards, you can use a function that turns a tuple into a dictionary.*"
   ]
  },
  {
   "cell_type": "markdown",
   "metadata": {},
   "source": [
    "*Recommended External Resources: [Python Zip Function](https://www.w3schools.com/python/ref_func_zip.asp)*\n"
   ]
  },
  {
   "cell_type": "code",
   "execution_count": 60,
   "metadata": {},
   "outputs": [
    {
     "name": "stdout",
     "output_type": "stream",
     "text": [
      "{'Physics': 75, 'Math': 85, 'Chemistry': 60, 'Philosophy': 90}\n"
     ]
    }
   ],
   "source": [
    "keys = ['Physics', 'Math', 'Chemistry', 'Philosophy']\n",
    "values = [75, 85, 60, 90]\n",
    "\n",
    "# Your code here\n",
    "\n",
    "dic = {}\n",
    "\n",
    "for i in range(len(keys)):\n",
    "    dic[keys[i]] = values[i]\n",
    "\n",
    "\n",
    "\n",
    "print(dic)"
   ]
  },
  {
   "cell_type": "markdown",
   "metadata": {},
   "source": [
    "2. Get the subject with the minimum score from the previous dictionary."
   ]
  },
  {
   "cell_type": "markdown",
   "metadata": {},
   "source": [
    "*Hint: Use the built-in function min(). Read about the parameter key.*"
   ]
  },
  {
   "cell_type": "markdown",
   "metadata": {},
   "source": [
    "\n",
    "*Recommended External Resources:*\n",
    "- *[Python Min Function Official Documentation](https://docs.python.org/3.8/library/functions.html#min)*\n",
    "- *[How to use key function in max and min in Python](https://medium.com/analytics-vidhya/how-to-use-key-function-in-max-and-min-in-python-1fdbd661c59c)*"
   ]
  },
  {
   "cell_type": "code",
   "execution_count": 63,
   "metadata": {},
   "outputs": [
    {
     "name": "stdout",
     "output_type": "stream",
     "text": [
      "60\n",
      "Chemistry\n"
     ]
    }
   ],
   "source": [
    "# Your code here\n",
    "print(min(values))\n",
    "\n",
    "min_score = min(dic, key=lambda x: dic[x])\n",
    "print(min_score)\n"
   ]
  }
 ],
 "metadata": {
  "kernelspec": {
   "display_name": "Python 3 (ipykernel)",
   "language": "python",
   "name": "python3"
  },
  "language_info": {
   "codemirror_mode": {
    "name": "ipython",
    "version": 3
   },
   "file_extension": ".py",
   "mimetype": "text/x-python",
   "name": "python",
   "nbconvert_exporter": "python",
   "pygments_lexer": "ipython3",
   "version": "3.11.4"
  }
 },
 "nbformat": 4,
 "nbformat_minor": 4
}
