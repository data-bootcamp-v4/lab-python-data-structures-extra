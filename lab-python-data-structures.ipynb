{
 "cells": [
  {
   "cell_type": "markdown",
   "metadata": {},
   "source": [
    "# Lab | Data Structures "
   ]
  },
  {
   "cell_type": "markdown",
   "metadata": {},
   "source": [
    "## Exercise 1: Working with Lists"
   ]
  },
  {
   "cell_type": "markdown",
   "metadata": {},
   "source": [
    "Imagine you are building a program for a teacher who wants to track the progress of their students throughout the semester. The teacher wants to input the grades of each student one by one, and get a summary of their performance. There are in total 5 students. You are tasked with building the program that will allow the teacher to do this easily.\n",
    "\n",
    "The program will prompt the teacher to enter the grades of each student. Once the teacher has entered all the grades, the program will calculate the total sum of the grades and display it on the screen. Then, the program will create a new list by selecting only the grades of the first, third, and fifth students entered by the teacher, and sort them in ascending order.\n",
    "\n",
    "Finally, the program will print out the new list, along with its length and the number of occurrences of the score 5 in the list. This will give the teacher a good overview of the performance of the selected students, and help them identify any potential issues early on."
   ]
  },
  {
   "cell_type": "markdown",
   "metadata": {},
   "source": [
    "*Hint:*\n",
    "- You can use the input() function to ask the user to enter their information.\n",
    "- Look for list methods to perform the tasks. \n",
    "- Remember, it is possible to get a part of the sequence using:\n",
    "\n",
    "    ```python\n",
    "    sequence[x:y:z]\n",
    "    ```\n",
    "    where x, y, z are integers.\n",
    "\n",
    "    The above returns a new sequence with the following characteristics:\n",
    "\n",
    "    - A sequence with the same type as the original (a slice of a list is a list, a slice of a tuple is a tuple, and a slice of a string is a string).\n",
    "    - A sequence with elements from `sequence [x]` to `sequence [y-1]` (does not include a sequence [y]). By skipping `z` elements each time, it can be omitted if ` z = 1`.\n"
   ]
  },
  {
   "cell_type": "markdown",
   "metadata": {},
   "source": [
    "*Recommended External Resources:*\n",
    "- *[Python Lists](https://www.w3schools.com/python/python_lists.asp)*\n",
    "- *[Python List Methods](https://www.w3schools.com/python/python_ref_list.asp)*\n",
    "- *[Python Built-in Functions](https://docs.python.org/3/library/functions.html)*\n"
   ]
  },
  {
   "cell_type": "code",
   "execution_count": 82,
   "metadata": {},
   "outputs": [
    {
     "name": "stdout",
     "output_type": "stream",
     "text": [
      "Input student grade {i+1}:3\n",
      "Input student grade {i+1}:1\n",
      "Input student grade {i+1}:5\n",
      "Input student grade {i+1}:4\n",
      "Input student grade {i+1}:4\n",
      "Grade of the students: [3, 1, 5, 4, 4]\n",
      "The total of grades:  17\n",
      "Final grades of the students:  [3, 4, 5]\n",
      "Length of the list:  3\n",
      "There are 1 5's in the list\n"
     ]
    }
   ],
   "source": [
    "import numpy as np\n",
    "grades=[]\n",
    "for i in range(5):\n",
    "    student_grades=input(\"Input student grade {i+1}:\")\n",
    "    grades.append(int(student_grades))\n",
    "print(\"Grade of the students:\",grades)\n",
    "sum= np.sum(grades)\n",
    "print(\"The total of grades: \",sum)\n",
    "New_grades=sorted(grades[0:5:2])\n",
    "print(\"Final grades of the students: \",(New_grades))\n",
    "print(\"Length of the list: \",len(New_grades))\n",
    "count_5=New_grades.count(5)\n",
    "print(\"There are\",count_5,\"5's in the list\")"
   ]
  },
  {
   "cell_type": "markdown",
   "metadata": {},
   "source": [
    "##### Exercise 2: Tuples"
   ]
  },
  {
   "cell_type": "markdown",
   "metadata": {},
   "source": [
    "Imagine you're running a fruit stand and want to keep track of your inventory. Write a Python program that does the following:\n",
    "\n",
    "- Initializes a tuple with 5 different types of fruit.\n",
    "- Outputs the first and last elements of the tuple, so you can see the full range of fruits the store offers.\n",
    "- Replaces the second element of the tuple with a new fruit that the store has recently received, and prints the updated tuple so you can see the changes.\n",
    "- Concatenates a new tuple containing 2 additional fruits to the original tuple, so you can add them to the store inventory, and prints the resulting tuple to see the updated inventory.\n",
    "- Splits the resulting tuple into 2 tuples of 3 elements each (the first tuple contains the first 3 elements, and the second tuple contains the last 3 elements), so you can organize the inventory more effectively.\n",
    "- Combines the 2 tuples from the previous step with the original tuple into a new tuple, and prints the resulting tuple and its length, so you can see the final inventory after all the changes."
   ]
  },
  {
   "cell_type": "markdown",
   "metadata": {},
   "source": [
    "*Recommended External Resources: [Python Tuples Examples and Methods](https://www.w3schools.com/python/python_tuples.asp)*\n",
    "\n"
   ]
  },
  {
   "cell_type": "code",
   "execution_count": 63,
   "metadata": {},
   "outputs": [
    {
     "name": "stdout",
     "output_type": "stream",
     "text": [
      "We offer all fruits from Apple to Mango\n",
      "['Apple', 'Pineapple', 'Orange', 'Grape', 'Mango']\n",
      "Updated Inventory: ('Apple', 'Pineapple', 'Orange', 'Grape', 'Mango', 'Banana', 'Dragonfruit')\n",
      "Inventory 1: ('Apple', 'Pineapple', 'Orange') \n",
      "Inventory_2: ('Dragonfruit', 'Banana', 'Mango')\n",
      "Final Inventory=  ('Apple', 'Pineapple', 'Orange', 'Dragonfruit', 'Banana', 'Mango', 'Apple', 'Pineapple', 'Orange', 'Grape', 'Mango')\n"
     ]
    },
    {
     "data": {
      "text/plain": [
       "11"
      ]
     },
     "execution_count": 63,
     "metadata": {},
     "output_type": "execute_result"
    }
   ],
   "source": [
    "fruits=('Apple','Kiwi','Orange','Grape','Mango')\n",
    "print('We offer all fruits from',fruits[0],'to',fruits[4])\n",
    "fruits=list(fruits)\n",
    "fruits[1]='Pineapple'\n",
    "print(fruits)\n",
    "fruits=tuple(fruits)\n",
    "more_fruits=('Banana','Dragonfruit')\n",
    "updated_inventory=fruits+more_fruits\n",
    "print('Updated Inventory:',updated_inventory)\n",
    "inventory_1=(updated_inventory[0],updated_inventory[1],updated_inventory[2])\n",
    "inventory_2=(updated_inventory[-1],updated_inventory[-2],updated_inventory[-3])\n",
    "print('Inventory 1:',inventory_1,'\\n''Inventory_2:',inventory_2)\n",
    "Final_inventory=inventory_1+inventory_2+fruits\n",
    "print('Final Inventory= ',Final_inventory)\n",
    "len(Final_inventory)"
   ]
  },
  {
   "cell_type": "markdown",
   "metadata": {},
   "source": [
    "## Exercise 3: Sets"
   ]
  },
  {
   "cell_type": "markdown",
   "metadata": {},
   "source": [
    "Imagine you are a data analyst working for a literature museum. Your manager has given you two poems to analyze, and she wants you to write a Python program to extract useful information from them.\n",
    "\n",
    "Your program should:\n",
    "\n",
    "- Create two sets, one for each poem, containing all unique words in both poems (ignoring case and punctuation).\n",
    "- Print the number of unique words in each set.\n",
    "- Identify and print the unique words present in the first poem but not in the second one.\n",
    "- Identify and print the unique words present in the second poem but not in the first one.\n",
    "- Identify and print the unique words present in both poems and print it in alphabetical order."
   ]
  },
  {
   "cell_type": "markdown",
   "metadata": {},
   "source": [
    "*Recommended External Resources:*\n",
    "- *[Python Sets](https://www.w3schools.com/python/python_sets.asp)* \n",
    "- *[Python Set Methods](https://www.w3schools.com/python/python_ref_set.asp)*\n",
    "- *[Python String Methods](https://www.w3schools.com/python/python_ref_string.asp)*\n"
   ]
  },
  {
   "cell_type": "code",
   "execution_count": 14,
   "metadata": {},
   "outputs": [],
   "source": [
    "poem = \"\"\"Some say the world will end in fire,\n",
    "Some say in ice.\n",
    "From what I’ve tasted of desire\n",
    "I hold with those who favor fire.\n",
    "But if it had to perish twice,\n",
    "I think I know enough of hate\n",
    "To say that for destruction ice\n",
    "Is also great\n",
    "And would suffice.\"\"\"\n",
    "\n",
    "new_poem = \"\"\"Some say life is but a dream,\n",
    "Some say it's a test.\n",
    "From what I've seen and what I deem,\n",
    "I side with those who see it as a quest.\n",
    "\n",
    "But if it had to end today,\n",
    "I think I know enough of love,\n",
    "To say that though it fades away,\n",
    "It's still what we are made of.\"\"\""
   ]
  },
  {
   "cell_type": "code",
   "execution_count": 51,
   "metadata": {},
   "outputs": [
    {
     "name": "stdout",
     "output_type": "stream",
     "text": [
      "Unique words in poem:  {'hate', 'know', 'suffice.', 'with', 'i’ve', 'hold', 'that', 'of', 'tasted', 'some', 'in', 'for', 'to', 'think', 'enough', 'great', 'will', 'fire,', 'what', 'ice', 'world', 'who', 'perish', 'destruction', 'would', 'but', 'and', 'i', 'if', 'it', 'is', 'favor', 'also', 'desire', 'say', 'twice,', 'the', 'had', 'from', 'those', 'end', 'ice.', 'fire.'} \n",
      "\n",
      "Unique words in new_poem:  {'a', 'as', 'though', 'know', 'are', 'with', 'still', 'test.', 'that', 'of', 'deem,', 'some', 'life', 'made', 'to', 'think', 'enough', 'quest.', 'what', 'today,', 'who', 'fades', 'but', 'i', 'if', 'it', 'is', 'away,', 'dream,', 'of.', 'say', 'seen', 'love,', 'had', 'from', \"it's\", \"i've\", 'we', 'see', 'those', 'end', 'side', 'and'} \n",
      "\n",
      "Unique words in poem 1 but not in poem 2 is:  {'hate', 'suffice.', 'i’ve', 'hold', 'tasted', 'in', 'for', 'great', 'will', 'fire,', 'ice', 'world', 'destruction', 'perish', 'would', 'favor', 'also', 'desire', 'twice,', 'the', 'ice.', 'fire.'} \n",
      "\n",
      "Unique words in poem 2 but not in poem 1 is:  {'a', 'are', 'as', 'though', 'still', 'test.', 'deem,', 'life', 'made', 'quest.', 'today,', 'fades', 'away,', 'dream,', 'of.', 'seen', 'love,', \"i've\", \"it's\", 'we', 'see', 'side'} \n",
      "\n",
      "Unique words in both the poem in alphabetical order ['and', 'but', 'end', 'enough', 'from', 'had', 'i', 'if', 'is', 'it', 'know', 'of', 'say', 'some', 'that', 'think', 'those', 'to', 'what', 'who', 'with'] \n",
      "\n"
     ]
    }
   ],
   "source": [
    "set1= set(poem.lower().split())\n",
    "print('Unique words in poem: ',set1,'\\n')\n",
    "set2= set(new_poem.lower().split())\n",
    "print('Unique words in new_poem: ',set2,'\\n')\n",
    "poem_1_unique=set1.difference(set2)\n",
    "print(\"Unique words in poem 1 but not in poem 2 is: \",poem_1_unique,'\\n')\n",
    "poem_2_unique=set2.difference(set1)\n",
    "print(\"Unique words in poem 2 but not in poem 1 is: \",poem_2_unique,'\\n')\n",
    "poem_common=set1.intersection(set2)\n",
    "print('Unique words in both the poem in alphabetical order',sorted(poem_common),'\\n')"
   ]
  },
  {
   "cell_type": "markdown",
   "metadata": {},
   "source": [
    "## Exercise 4: Dictionaries"
   ]
  },
  {
   "cell_type": "markdown",
   "metadata": {},
   "source": [
    "Consider the following dictionary of students with their scores in different subjects. One of the students, Bob, has complained about his score in Philosophy and, after reviewing it, the teacher has decided to update his score to 100. Write a Python program that updates Bob's score in Philosophy to 100 in the dictionary."
   ]
  },
  {
   "cell_type": "markdown",
   "metadata": {},
   "source": [
    "*Recommended External Resources: [Python Dictionary Examples and Methods](https://www.w3schools.com/python/python_dictionaries.asp)*\n"
   ]
  },
  {
   "cell_type": "code",
   "execution_count": 9,
   "metadata": {},
   "outputs": [],
   "source": [
    "grades = {'Alice': {'Physics': 75, 'Math': 85, 'Chemistry': 60, 'Philosophy': 90}, 'Bob': {'Physics': 75, 'Math': 85, 'Chemistry': 60, 'Philosophy': 90}}"
   ]
  },
  {
   "cell_type": "code",
   "execution_count": 12,
   "metadata": {},
   "outputs": [
    {
     "name": "stdout",
     "output_type": "stream",
     "text": [
      "{'Alice': {'Physics': 75, 'Math': 85, 'Chemistry': 60, 'Philosophy': 90}, 'Bob': {'Physics': 75, 'Math': 85, 'Chemistry': 60, 'Philosophy': 100}}\n"
     ]
    }
   ],
   "source": [
    "grades['Bob']['Philosophy']=100\n",
    "print(grades)"
   ]
  },
  {
   "cell_type": "markdown",
   "metadata": {},
   "source": [
    "## Bonus"
   ]
  },
  {
   "cell_type": "markdown",
   "metadata": {},
   "source": [
    "1. Below are the two lists. Write a Python program to convert them into a dictionary in a way that item from list1 is the key and item from list2 is the value."
   ]
  },
  {
   "cell_type": "markdown",
   "metadata": {},
   "source": [
    "*Hint: Use the zip() function. This function takes two or more iterables (like list, dict, string), aggregates them in a tuple, and returns it. Afterwards, you can use a function that turns a tuple into a dictionary.*"
   ]
  },
  {
   "cell_type": "markdown",
   "metadata": {},
   "source": [
    "*Recommended External Resources: [Python Zip Function](https://www.w3schools.com/python/ref_func_zip.asp)*\n"
   ]
  },
  {
   "cell_type": "code",
   "execution_count": null,
   "metadata": {},
   "outputs": [],
   "source": [
    "keys = ['Physics', 'Math', 'Chemistry', 'Philosophy']\n",
    "values = [75, 85, 60,90]\n",
    "\n",
    "# Your code here"
   ]
  },
  {
   "cell_type": "markdown",
   "metadata": {},
   "source": [
    "2. Get the subject with the minimum score from the previous dictionary."
   ]
  },
  {
   "cell_type": "markdown",
   "metadata": {},
   "source": [
    "*Hint: Use the built-in function min(). Read about the parameter key.*"
   ]
  },
  {
   "cell_type": "markdown",
   "metadata": {},
   "source": [
    "\n",
    "*Recommended External Resources:*\n",
    "- *[Python Min Function Official Documentation](https://docs.python.org/3.8/library/functions.html#min)*\n",
    "- *[How to use key function in max and min in Python](https://medium.com/analytics-vidhya/how-to-use-key-function-in-max-and-min-in-python-1fdbd661c59c)*"
   ]
  },
  {
   "cell_type": "code",
   "execution_count": null,
   "metadata": {},
   "outputs": [],
   "source": [
    "# Your code here"
   ]
  }
 ],
 "metadata": {
  "kernelspec": {
   "display_name": "Python 3 (ipykernel)",
   "language": "python",
   "name": "python3"
  },
  "language_info": {
   "codemirror_mode": {
    "name": "ipython",
    "version": 3
   },
   "file_extension": ".py",
   "mimetype": "text/x-python",
   "name": "python",
   "nbconvert_exporter": "python",
   "pygments_lexer": "ipython3",
   "version": "3.10.9"
  }
 },
 "nbformat": 4,
 "nbformat_minor": 4
}
