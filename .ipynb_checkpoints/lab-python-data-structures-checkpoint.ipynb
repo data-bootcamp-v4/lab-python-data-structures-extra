{
 "cells": [
  {
   "cell_type": "markdown",
   "metadata": {},
   "source": [
    "# Lab | Data Structures "
   ]
  },
  {
   "cell_type": "markdown",
   "metadata": {},
   "source": [
    "## Exercise 1: Working with Lists"
   ]
  },
  {
   "cell_type": "markdown",
   "metadata": {},
   "source": [
    "Imagine you are building a program for a teacher who wants to track the progress of their students throughout the semester. The teacher wants to input the grades of each student one by one, and get a summary of their performance. There are in total 5 students. You are tasked with building the program that will allow the teacher to do this easily.\n",
    "\n",
    "The program will prompt the teacher to enter the grades of each student. Once the teacher has entered all the grades, the program will calculate the total sum of the grades and display it on the screen. Then, the program will create a new list by selecting only the grades of the first, third, and fifth students entered by the teacher, and sort them in ascending order.\n",
    "\n",
    "Finally, the program will print out the new list, along with its length and the number of occurrences of the score 5 in the list. This will give the teacher a good overview of the performance of the selected students, and help them identify any potential issues early on."
   ]
  },
  {
   "cell_type": "markdown",
   "metadata": {},
   "source": [
    "*Hint:*\n",
    "- You can use the input() function to ask the user to enter their information.\n",
    "- Look for list methods to perform the tasks. \n",
    "- Remember, it is possible to get a part of the sequence using:\n",
    "\n",
    "    ```python\n",
    "    sequence[x:y:z]\n",
    "    ```\n",
    "    where x, y, z are integers.\n",
    "\n",
    "    The above returns a new sequence with the following characteristics:\n",
    "\n",
    "    - A sequence with the same type as the original (a slice of a list is a list, a slice of a tuple is a tuple, and a slice of a string is a string).\n",
    "    - A sequence with elements from `sequence [x]` to `sequence [y-1]` (does not include a sequence [y]). By skipping `z` elements each time, it can be omitted if ` z = 1`.\n"
   ]
  },
  {
   "cell_type": "markdown",
   "metadata": {},
   "source": [
    "*Recommended External Resources:*\n",
    "- *[Python Lists](https://www.w3schools.com/python/python_lists.asp)*\n",
    "- *[Python List Methods](https://www.w3schools.com/python/python_ref_list.asp)*\n",
    "- *[Python Built-in Functions](https://docs.python.org/3/library/functions.html)*\n"
   ]
  },
  {
   "cell_type": "code",
   "execution_count": 10,
   "metadata": {},
   "outputs": [],
   "source": [
    "students = ['Sheldon', 'Raj', 'Leonard', 'Howard', 'Penny']\n",
    "grades = []"
   ]
  },
  {
   "cell_type": "code",
   "execution_count": 14,
   "metadata": {},
   "outputs": [
    {
     "name": "stdout",
     "output_type": "stream",
     "text": [
      "Enter the grade for Sheldon (integer between 1 and 10): 11\n",
      "You must enter a value between 1 and 10\n",
      "Enter the grade for Sheldon (integer between 1 and 10): 0\n",
      "You must enter a value between 1 and 10\n",
      "Enter the grade for Sheldon (integer between 1 and 10): two\n",
      "You must enter a valid integer value\n",
      "Enter the grade for Sheldon (integer between 1 and 10): 10\n",
      "Enter the grade for Raj (integer between 1 and 10): 9\n",
      "Enter the grade for Leonard (integer between 1 and 10): 8\n",
      "Enter the grade for Howard (integer between 1 and 10): 5\n",
      "Enter the grade for Penny (integer between 1 and 10): 5\n"
     ]
    }
   ],
   "source": [
    "for student in students:\n",
    "    while True:\n",
    "        try:\n",
    "            tmp = int(input(f'Enter the grade for {student} (integer between 1 and 10): '))\n",
    "            if (tmp < 1) or (tmp > 10):\n",
    "                print('You must enter a value between 1 and 10')\n",
    "                continue\n",
    "        except ValueError:\n",
    "            print('You must enter a valid integer value')\n",
    "            continue\n",
    "        else:\n",
    "            grades.append(tmp)\n",
    "            break\n",
    "\n",
    "print(f'\\nThe sum of all grades is {sum(grades)}')"
   ]
  },
  {
   "cell_type": "code",
   "execution_count": null,
   "metadata": {},
   "outputs": [],
   "source": [
    "# for student in students:\n",
    "#     grades.append(int(input(f'Enter the grade for {student} (integer between 1 and 10): ')))\n",
    "\n",
    "# print(f'The sum of all grades is {sum(grades)}')"
   ]
  },
  {
   "cell_type": "code",
   "execution_count": 15,
   "metadata": {},
   "outputs": [
    {
     "name": "stdout",
     "output_type": "stream",
     "text": [
      "Complete list [10, 9, 8, 5, 5]\n",
      "Unsorted selected list [10, 8, 5]\n",
      "Sorted selected list [5, 8, 10]\n",
      "Length of selected list is 3\n",
      "Occurrancy of grade 5 is 1\n"
     ]
    }
   ],
   "source": [
    "print('Complete list', grades)\n",
    "\n",
    "selected_grades = grades[::2]\n",
    "print('Unsorted selected list', selected_grades)\n",
    "\n",
    "selected_grades.sort()\n",
    "print('Sorted selected list', selected_grades)\n",
    "print(f'Length of selected list is {len(selected_grades)}')\n",
    "print(f'Occurrancy of grade 5 is {selected_grades.count(5)}')"
   ]
  },
  {
   "cell_type": "markdown",
   "metadata": {},
   "source": [
    "## Exercise 2: Tuples"
   ]
  },
  {
   "cell_type": "markdown",
   "metadata": {},
   "source": [
    "Imagine you're running a fruit stand and want to keep track of your inventory. Write a Python program that does the following:\n",
    "\n",
    "- Initializes a tuple with 5 different types of fruit.\n",
    "- Outputs the first and last elements of the tuple, so you can see the full range of fruits the store offers.\n",
    "- Replaces the second element of the tuple with a new fruit that the store has recently received, and prints the updated tuple so you can see the changes.\n",
    "- Concatenates a new tuple containing 2 additional fruits to the original tuple, so you can add them to the store inventory, and prints the resulting tuple to see the updated inventory.\n",
    "- Splits the resulting tuple into 2 tuples of 3 elements each (the first tuple contains the first 3 elements, and the second tuple contains the last 3 elements), so you can organize the inventory more effectively.\n",
    "- Combines the 2 tuples from the previous step with the original tuple into a new tuple, and prints the resulting tuple and its length, so you can see the final inventory after all the changes."
   ]
  },
  {
   "cell_type": "markdown",
   "metadata": {},
   "source": [
    "*Recommended External Resources: [Python Tuples Examples and Methods](https://www.w3schools.com/python/python_tuples.asp)*\n",
    "\n"
   ]
  },
  {
   "cell_type": "code",
   "execution_count": 19,
   "metadata": {},
   "outputs": [
    {
     "name": "stdout",
     "output_type": "stream",
     "text": [
      "First and last fruits: mango, banana\n"
     ]
    }
   ],
   "source": [
    "fruits = ('mango', 'kiwi', 'avocado', 'apple', 'banana')\n",
    "print(f'First and last fruits: {fruits[0]}, {fruits[-1]}')"
   ]
  },
  {
   "cell_type": "code",
   "execution_count": 20,
   "metadata": {},
   "outputs": [
    {
     "name": "stdout",
     "output_type": "stream",
     "text": [
      "Updated tuple: ('mango', 'papaya', 'avocado', 'apple', 'banana')\n"
     ]
    }
   ],
   "source": [
    "# to update the tuple you need to convert it into a list first\n",
    "fruits_list = list(fruits)\n",
    "fruits_list[1] = 'papaya'\n",
    "fruits = tuple(fruits_list)\n",
    "print(f'Updated tuple: {fruits}')"
   ]
  },
  {
   "cell_type": "code",
   "execution_count": 21,
   "metadata": {},
   "outputs": [
    {
     "name": "stdout",
     "output_type": "stream",
     "text": [
      "Updated inventory: ('mango', 'papaya', 'avocado', 'apple', 'banana', 'watermelon', 'grape')\n"
     ]
    }
   ],
   "source": [
    "new_fruits = ('watermelon', 'grape')\n",
    "\n",
    "updated_fruits = fruits + new_fruits\n",
    "print(f'Updated inventory: {updated_fruits}')"
   ]
  },
  {
   "cell_type": "code",
   "execution_count": 24,
   "metadata": {},
   "outputs": [
    {
     "name": "stdout",
     "output_type": "stream",
     "text": [
      "('mango', 'papaya', 'avocado') ('grape', 'watermelon', 'banana')\n"
     ]
    }
   ],
   "source": [
    "first = updated_fruits[:3]\n",
    "last = updated_fruits[:3:-1]\n",
    "\n",
    "print(first, last)"
   ]
  },
  {
   "cell_type": "code",
   "execution_count": 26,
   "metadata": {},
   "outputs": [
    {
     "name": "stdout",
     "output_type": "stream",
     "text": [
      "Combined tuple is: ('mango', 'papaya', 'avocado', 'apple', 'banana', 'mango', 'papaya', 'avocado', 'grape', 'watermelon', 'banana') and is 11 elements long.\n"
     ]
    }
   ],
   "source": [
    "combined_fruits = fruits + first + last\n",
    "print(f'Combined tuple is: {combined_fruits} and is {len(combined_fruits)} elements long.')"
   ]
  },
  {
   "cell_type": "markdown",
   "metadata": {},
   "source": [
    "## Exercise 3: Sets"
   ]
  },
  {
   "cell_type": "markdown",
   "metadata": {},
   "source": [
    "Imagine you are a data analyst working for a literature museum. Your manager has given you two poems to analyze, and she wants you to write a Python program to extract useful information from them.\n",
    "\n",
    "Your program should:\n",
    "\n",
    "- Create two sets, one for each poem, containing all unique words in both poems (ignoring case and punctuation).\n",
    "- Print the number of unique words in each set.\n",
    "- Identify and print the unique words present in the first poem but not in the second one.\n",
    "- Identify and print the unique words present in the second poem but not in the first one.\n",
    "- Identify and print the unique words present in both poems and print it in alphabetical order."
   ]
  },
  {
   "cell_type": "markdown",
   "metadata": {},
   "source": [
    "*Recommended External Resources:*\n",
    "- *[Python Sets](https://www.w3schools.com/python/python_sets.asp)* \n",
    "- *[Python Set Methods](https://www.w3schools.com/python/python_ref_set.asp)*\n",
    "- *[Python String Methods](https://www.w3schools.com/python/python_ref_string.asp)*\n"
   ]
  },
  {
   "cell_type": "code",
   "execution_count": 119,
   "metadata": {},
   "outputs": [],
   "source": [
    "poem = \"\"\"Some say the world will end in fire,\n",
    "Some say in ice.\n",
    "From what I’ve tasted of desire\n",
    "I hold with those who favor fire.\n",
    "But if it had to perish twice,\n",
    "I think I know enough of hate\n",
    "To say that for destruction ice\n",
    "Is also great\n",
    "And would suffice.\"\"\"\n",
    "\n",
    "new_poem = \"\"\"Some say life is but a dream,\n",
    "Some say it's a test.\n",
    "From what I've seen and what I deem,\n",
    "I side with those who see it as a quest.\n",
    "\n",
    "But if it had to end today,\n",
    "I think I know enough of love,\n",
    "To say that though it fades away,\n",
    "It's still what we are made of.\"\"\""
   ]
  },
  {
   "cell_type": "code",
   "execution_count": 120,
   "metadata": {},
   "outputs": [],
   "source": [
    "import string\n",
    "\n",
    "poem_set = set()\n",
    "new_poem_set = set()\n"
   ]
  },
  {
   "cell_type": "code",
   "execution_count": 121,
   "metadata": {
    "scrolled": false
   },
   "outputs": [],
   "source": [
    "# get rid of punctuation in both poems\n",
    "for char in string.punctuation:\n",
    "    poem = poem.replace(char, ' ')\n",
    "\n",
    "for char in string.punctuation:\n",
    "    new_poem = new_poem.replace(char, ' ')"
   ]
  },
  {
   "cell_type": "code",
   "execution_count": 122,
   "metadata": {},
   "outputs": [
    {
     "name": "stdout",
     "output_type": "stream",
     "text": [
      "Poem unique words:\n",
      "{'', 'hold', 'from', 'destruction', 'say', 'it', 'i’ve', 'fire', 'for', 'if', 'favor', 'and', 'would', 'those', 'had', 'i', 'know', 'what', 'but', 'also', 'desire', 'in', 'the', 'perish', 'that', 'great', 'will', 'ice', 'twice', 'suffice', 'who', 'think', 'is', 'hate', 'some', 'to', 'end', 'with', 'tasted', 'world', 'enough', 'of'}\n",
      "\n",
      "New poem unique words:\n",
      "{'', 'from', 's', 'side', 'say', 'it', 'if', 'seen', 'and', 'made', 'see', 'those', 'had', 'i', 'know', 'what', 'away', 'dream', 'but', 'life', 'deem', 'still', 'are', 'though', 'today', 'quest', 'we', 'that', 'as', 'love', 'a', 'is', 'who', 'think', 'test', 've', 'some', 'fades', 'to', 'with', 'end', 'enough', 'of'}\n"
     ]
    }
   ],
   "source": [
    "for word in poem.replace('\\n', ' ').split(' '):\n",
    "    poem_set.add(word.lower())\n",
    "\n",
    "\n",
    "for word in new_poem.replace('\\n', ' ').split(' '):\n",
    "    new_poem_set.add(word.lower())\n",
    "\n",
    "print(f'Poem unique words:\\n{poem_set}')\n",
    "print(f'\\nNew poem unique words:\\n{new_poem_set}')\n",
    "\n"
   ]
  },
  {
   "cell_type": "code",
   "execution_count": 125,
   "metadata": {},
   "outputs": [
    {
     "name": "stdout",
     "output_type": "stream",
     "text": [
      "Number of unique words in poem is 42\n",
      "Number of unique words in new poem is 43\n"
     ]
    }
   ],
   "source": [
    "print(f'Number of unique words in poem is {len(poem_set)}')\n",
    "print(f'Number of unique words in new poem is {len(new_poem_set)}')"
   ]
  },
  {
   "cell_type": "code",
   "execution_count": 136,
   "metadata": {},
   "outputs": [
    {
     "name": "stdout",
     "output_type": "stream",
     "text": [
      "Unique words that are in poem but not in new poem:\n",
      "['hold', 'destruction', 'i’ve', 'fire', 'for', 'favor', 'would', 'also', 'desire', 'in', 'the', 'perish', 'great', 'will', 'ice', 'twice', 'suffice', 'hate', 'tasted', 'world']\n",
      "\n",
      "Unique words that are in new poem but not in poem:\n",
      "['s', 'side', 'seen', 'made', 'see', 'away', 'dream', 'life', 'deem', 'still', 'are', 'though', 'today', 'quest', 'we', 'as', 'love', 'a', 'test', 've', 'fades']\n",
      "\n",
      "Unique words in both poems in alphabetical order:\n",
      "['', 'and', 'but', 'end', 'enough', 'from', 'had', 'i', 'if', 'is', 'it', 'know', 'of', 'say', 'some', 'that', 'think', 'those', 'to', 'what', 'who', 'with']\n"
     ]
    }
   ],
   "source": [
    "common_words = poem_set.intersection(new_poem_set)\n",
    "\n",
    "unique_poem = []\n",
    "unique_new_poem = []\n",
    "\n",
    "for word in poem_set:\n",
    "    if word not in common_words:\n",
    "        unique_poem.append(word)\n",
    "   \n",
    "for word in new_poem_set:\n",
    "    if word not in common_words:\n",
    "        unique_new_poem.append(word)\n",
    "        \n",
    "print(f'Unique words that are in poem but not in new poem:\\n{unique_poem}')\n",
    "print(f'\\nUnique words that are in new poem but not in poem:\\n{unique_new_poem}')\n",
    "\n",
    "tmp = list(common_words)\n",
    "tmp.sort()\n",
    "print(f'\\nUnique words in both poems in alphabetical order:\\n{tmp}')"
   ]
  },
  {
   "cell_type": "markdown",
   "metadata": {},
   "source": [
    "## Exercise 4: Dictionaries"
   ]
  },
  {
   "cell_type": "markdown",
   "metadata": {},
   "source": [
    "Consider the following dictionary of students with their scores in different subjects. One of the students, Bob, has complained about his score in Philosophy and, after reviewing it, the teacher has decided to update his score to 100. Write a Python program that updates Bob's score in Philosophy to 100 in the dictionary."
   ]
  },
  {
   "cell_type": "markdown",
   "metadata": {},
   "source": [
    "*Recommended External Resources: [Python Dictionary Examples and Methods](https://www.w3schools.com/python/python_dictionaries.asp)*\n"
   ]
  },
  {
   "cell_type": "code",
   "execution_count": 137,
   "metadata": {},
   "outputs": [],
   "source": [
    "grades = {'Alice': {'Physics': 75, 'Math': 85, 'Chemistry': 60, 'Philosophy': 90}, 'Bob': {'Physics': 75, 'Math': 85, 'Chemistry': 60, 'Philosophy': 90}}"
   ]
  },
  {
   "cell_type": "code",
   "execution_count": 138,
   "metadata": {},
   "outputs": [
    {
     "data": {
      "text/plain": [
       "{'Alice': {'Physics': 75, 'Math': 85, 'Chemistry': 60, 'Philosophy': 90},\n",
       " 'Bob': {'Physics': 75, 'Math': 85, 'Chemistry': 60, 'Philosophy': 100}}"
      ]
     },
     "execution_count": 138,
     "metadata": {},
     "output_type": "execute_result"
    }
   ],
   "source": [
    "grades['Bob']['Philosophy'] = 100\n",
    "grades"
   ]
  },
  {
   "cell_type": "markdown",
   "metadata": {},
   "source": [
    "## Bonus"
   ]
  },
  {
   "cell_type": "markdown",
   "metadata": {},
   "source": [
    "1. Below are the two lists. Write a Python program to convert them into a dictionary in a way that item from list1 is the key and item from list2 is the value."
   ]
  },
  {
   "cell_type": "markdown",
   "metadata": {},
   "source": [
    "*Hint: Use the zip() function. This function takes two or more iterables (like list, dict, string), aggregates them in a tuple, and returns it. Afterwards, you can use a function that turns a tuple into a dictionary.*"
   ]
  },
  {
   "cell_type": "markdown",
   "metadata": {},
   "source": [
    "*Recommended External Resources: [Python Zip Function](https://www.w3schools.com/python/ref_func_zip.asp)*\n"
   ]
  },
  {
   "cell_type": "code",
   "execution_count": 139,
   "metadata": {},
   "outputs": [
    {
     "data": {
      "text/plain": [
       "{'Physics': 75, 'Math': 85, 'Chemistry': 60, 'Philosophy': 90}"
      ]
     },
     "execution_count": 139,
     "metadata": {},
     "output_type": "execute_result"
    }
   ],
   "source": [
    "keys = ['Physics', 'Math', 'Chemistry', 'Philosophy']\n",
    "values = [75, 85, 60,90]\n",
    "\n",
    "# Your code here\n",
    "tmp = dict(zip(keys, values))\n",
    "tmp"
   ]
  },
  {
   "cell_type": "markdown",
   "metadata": {},
   "source": [
    "2. Get the subject with the minimum score from the previous dictionary."
   ]
  },
  {
   "cell_type": "markdown",
   "metadata": {},
   "source": [
    "*Hint: Use the built-in function min(). Read about the parameter key.*"
   ]
  },
  {
   "cell_type": "markdown",
   "metadata": {},
   "source": [
    "\n",
    "*Recommended External Resources:*\n",
    "- *[Python Min Function Official Documentation](https://docs.python.org/3.8/library/functions.html#min)*\n",
    "- *[How to use key function in max and min in Python](https://medium.com/analytics-vidhya/how-to-use-key-function-in-max-and-min-in-python-1fdbd661c59c)*"
   ]
  },
  {
   "cell_type": "code",
   "execution_count": 141,
   "metadata": {},
   "outputs": [
    {
     "name": "stdout",
     "output_type": "stream",
     "text": [
      "Chemistry\n"
     ]
    }
   ],
   "source": [
    "# Your code here\n",
    "for k,v in tmp.items():\n",
    "    if v == min(tmp.values()):\n",
    "        print(k)"
   ]
  },
  {
   "cell_type": "code",
   "execution_count": null,
   "metadata": {},
   "outputs": [],
   "source": []
  }
 ],
 "metadata": {
  "kernelspec": {
   "display_name": "Python 3 (ipykernel)",
   "language": "python",
   "name": "python3"
  },
  "language_info": {
   "codemirror_mode": {
    "name": "ipython",
    "version": 3
   },
   "file_extension": ".py",
   "mimetype": "text/x-python",
   "name": "python",
   "nbconvert_exporter": "python",
   "pygments_lexer": "ipython3",
   "version": "3.10.9"
  }
 },
 "nbformat": 4,
 "nbformat_minor": 4
}
